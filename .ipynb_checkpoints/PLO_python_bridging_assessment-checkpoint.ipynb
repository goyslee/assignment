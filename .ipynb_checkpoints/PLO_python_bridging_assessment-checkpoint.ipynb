{
 "cells": [
  {
   "cell_type": "markdown",
   "metadata": {},
   "source": [
    "<img src=\"mv_top_design.jpg\" width=\"1250\" align=\"center\">"
   ]
  },
  {
   "cell_type": "markdown",
   "metadata": {},
   "source": [
    "Welcome to this interactive Python Jupyter Notebook! This assessment is designed to gauge your knowledge of Python programming, as well as your understanding of predictive models including classification, regression and time-series forecasting. Throughout the completion of this notebook, you will be tasked to apply technical coding skills, demonstrate your proficiency in handling different types of data and showcase your ability to build and refine predictive algorithms. Keep in mind that, while understanding the concepts is crucial, implementation plays an equally important role in mastering Python and data science techniques. \n",
    "\n",
    "Good luck and happy coding! "
   ]
  },
  {
   "cell_type": "markdown",
   "metadata": {
    "tags": []
   },
   "source": [
    "# Part 1: Regression and Classification with Wine Data"
   ]
  },
  {
   "cell_type": "markdown",
   "metadata": {},
   "source": [
    "You have recently been hired by a famous wine merchant who wants you to use your machine learning skills to help grow his business. For this exercise you will be using the [UCI wine quality dataset](https://www.sciencedirect.com/science/article/abs/pii/S0167923609001377) (Cortez et al., 2009) and will be building a regression and classification model.\n",
    "\n",
    "Let's take a look at the data:"
   ]
  },
  {
   "cell_type": "code",
   "execution_count": 2,
   "metadata": {},
   "outputs": [],
   "source": [
    "import pandas as pd\n",
    "import seaborn as sns\n",
    "import matplotlib.pyplot as plt\n",
    "import numpy as np\n",
    "from sklearn.preprocessing import StandardScaler\n",
    "from sklearn.linear_model import LinearRegression, LogisticRegression\n",
    "from sklearn.model_selection import train_test_split, cross_val_score"
   ]
  },
  {
   "cell_type": "markdown",
   "metadata": {},
   "source": [
    "First, import \"wine_quality.csv\" dataset"
   ]
  },
  {
   "cell_type": "code",
   "execution_count": 3,
   "metadata": {},
   "outputs": [],
   "source": []
  },
  {
   "cell_type": "markdown",
   "metadata": {},
   "source": [
    "## Brief\n",
    "\n",
    "In this exercise you are going to build a regression model to predict the quality of a bottle of wine, and then a classification model to predict its colour. \n",
    "\n",
    "\n",
    "We have left this assignment fairly open, you can research and use more advanced models and techniques if you want, or use more simple models if that is more comfortable. Either way, you are expected to evaluate the models you built."
   ]
  },
  {
   "cell_type": "markdown",
   "metadata": {},
   "source": [
    "## 1) Explore the data\n",
    "\n",
    "Never neglect your EDA! \n",
    "\n",
    " - Calculate summary statistics for your data\n",
    " - Check the distribution - are all fields normally distributed? Does this matter?\n",
    " - Check for Null values\n",
    " - Check for outliers, how can you visualise this? What do you think you should do with them?\n",
    " - Check correlations, produce a heatmap to demonstrate- which fields are most correlated with median value? Is there any examples of multicollinearity?"
   ]
  },
  {
   "cell_type": "code",
   "execution_count": null,
   "metadata": {},
   "outputs": [],
   "source": []
  },
  {
   "cell_type": "code",
   "execution_count": null,
   "metadata": {},
   "outputs": [],
   "source": []
  },
  {
   "cell_type": "markdown",
   "metadata": {},
   "source": [
    "# 2) Regression\n",
    "\n",
    "Your first task is to build a model that predicts the quality of a type of wine. You will need to build a linear regression model but you can use as many features as you like, any you do include must be justified from your EDA. Once you have created your model, evaluate it by reporting at least the r-squared.\n",
    "\n",
    "Required:\n",
    "\n",
    " - Select and justify features to be included in your model\n",
    " - Use the train_test_split function to create a training and testing set\n",
    " - Build a regression model to predict quality from your chosen features\n",
    " - Report the r-squared and at least one other performance metric\n",
    " \n",
    "Optional: \n",
    "\n",
    " - Use cross validation to evaluate the performance of your model \n",
    " - Use StandardScaler to standardise your features and compare the models performance\n",
    " - Plot the model coefficients against each other- which variable is the most important when predicting median value?\n",
    " - Plot the set of predicted values against the target variable- what does this show?\n",
    " \n",
    "Extend:\n",
    "\n",
    " - Optimise the model by using regularisation\n",
    " - Research cross validation estimators (e.g. ElasticNetCV)\n",
    " - Research sklearn Pipeline and use it in building your model"
   ]
  },
  {
   "cell_type": "code",
   "execution_count": null,
   "metadata": {},
   "outputs": [],
   "source": []
  },
  {
   "cell_type": "markdown",
   "metadata": {
    "tags": []
   },
   "source": [
    "### Business question on Regression \n",
    "Q: Can you briefly describe a scenario in your current organization where a regression model could be utilised effectively? What data would you acquire and how would you categorize them? What potential challenges might you encounter, and how could your solutions affect decision-making within the organization?"
   ]
  },
  {
   "cell_type": "markdown",
   "metadata": {},
   "source": [
    "Double Click here to give us an answer!\n",
    "\n",
    "A:"
   ]
  },
  {
   "cell_type": "markdown",
   "metadata": {
    "tags": []
   },
   "source": [
    "## 3) Classification\n",
    "\n",
    "Now you have made a model to predict the quality of a wine, you have now been asked to predict whether it is red or white based off its features.\n",
    "\n",
    "You should use logistic regression, but you can research and use other classification methods if you would like. \n",
    "\n",
    "Required:\n",
    "\n",
    " - Use train_test_split to create a training and testing set\n",
    " - Build a classification model to predict 'Colour' using your chosen features\n",
    " - Report the accuracy and baseline accuracy\n",
    " \n",
    "Optional:\n",
    " \n",
    "  - Produce a confusion matrix to show how effectve your model is\n",
    "  - Calculate the precision and recall to explain how effective your model is for predicting\n",
    " \n",
    "Extend:\n",
    " \n",
    "  - Research and use other classification models (a Decision Tree, SVC, etc) and compare them to your logistic regression model\n"
   ]
  },
  {
   "cell_type": "code",
   "execution_count": null,
   "metadata": {},
   "outputs": [],
   "source": []
  },
  {
   "cell_type": "markdown",
   "metadata": {},
   "source": [
    "### Business question on Classification \n",
    "Q: Can you identify a situation or problem in your organization that could potentially benefit from the application of a classification model? What kind of data would you need and how would you plan to collect them? What outcomes would you expect and how those predictions might guide the future strategies of your organization?"
   ]
  },
  {
   "cell_type": "markdown",
   "metadata": {},
   "source": [
    "Double Click here to give us an answer!\n",
    "\n",
    "A:"
   ]
  },
  {
   "cell_type": "markdown",
   "metadata": {
    "tags": []
   },
   "source": [
    "# Part 2 : Time series forecasting model with Walmart Sales Data \n",
    "\n",
    "You are a data analyst at Walmart. Your manager wants you to analyze Walmart's weekly sales data over a two-year period from 2010 to 2012. However, they would like you to focus on analysing one single store. \n",
    "\n",
    "First, load in dataset \"train.csv\"\n",
    "\n",
    "The data include:\n",
    "\n",
    "* `Store`: The store number.\n",
    "* `Dept`: The department number.\n",
    "* `Date`: The week.\n",
    "* `Weekly_Sales`: Sales for the given department in the given store.\n",
    "* `IsHoliday`: Whether the week is a special holiday week."
   ]
  },
  {
   "cell_type": "code",
   "execution_count": null,
   "metadata": {},
   "outputs": [],
   "source": []
  },
  {
   "cell_type": "markdown",
   "metadata": {},
   "source": [
    "### 1) Preprocess the data using Pandas.\n",
    "\n",
    "Since this is going to be a time series analysis, what are the things that we need to be aware of and check before modelling?\n",
    "\n",
    " - Convert the `Date` column to a `datetime` object.\n",
    " - Set `Date` as the index of the DataFrame"
   ]
  },
  {
   "cell_type": "code",
   "execution_count": null,
   "metadata": {
    "tags": []
   },
   "outputs": [],
   "source": []
  },
  {
   "cell_type": "markdown",
   "metadata": {},
   "source": [
    "### 2) Filtering our dataset to compute rolling mean for \"Weekly Sales\"\n",
    "\n",
    "Your manager would like you to focus on Store 1 sales. \n",
    "\n",
    " - Filter the DataFrame to Store 1 sales \n",
    " - Aggregate to compute the total weekly sales\n",
    " - Store this in a new DataFrame\n",
    " - Plot the rolling mean for `Weekly_Sales`. What general trends do you observe?"
   ]
  },
  {
   "cell_type": "code",
   "execution_count": null,
   "metadata": {},
   "outputs": [],
   "source": []
  },
  {
   "cell_type": "markdown",
   "metadata": {},
   "source": [
    "### 3) Create an autocorrelation plot and decomposition plot \n",
    "\n",
    " - Compute the `1`, `13`, and `52` autocorrelations for `Weekly_Sales` \n",
    " - Create a decomposition plot for the Store 1 sales data. \n",
    " - Based on the analyses above, what can we deduce about this time series?"
   ]
  },
  {
   "cell_type": "code",
   "execution_count": null,
   "metadata": {},
   "outputs": [],
   "source": []
  },
  {
   "cell_type": "markdown",
   "metadata": {
    "tags": []
   },
   "source": [
    "### 4) Choose a time series forecasting model to predict the next 6 months weekly sales for store 1\n",
    "\n",
    " - Can be simple naive forecasting, Holt's linear model, autoregressive model, or an ARIMA model.\n",
    " - Explain the rationale behind choosing your model and demonstrate analysis results in a graph. "
   ]
  },
  {
   "cell_type": "code",
   "execution_count": null,
   "metadata": {},
   "outputs": [],
   "source": []
  },
  {
   "cell_type": "markdown",
   "metadata": {},
   "source": [
    "### Business question \n",
    "Q: Can you identify a scenario from your organization where this time series forecasting could be effectively applied? How would you gather and prepare the necessary data for this task? How do you think these predictive insights could enhance decision-making processes in your organization?"
   ]
  },
  {
   "cell_type": "markdown",
   "metadata": {},
   "source": [
    "Double Click here to give us an answer!\n",
    "\n",
    "A:"
   ]
  }
 ],
 "metadata": {
  "kernelspec": {
   "display_name": "Python 3 (ipykernel)",
   "language": "python",
   "name": "python3"
  },
  "language_info": {
   "codemirror_mode": {
    "name": "ipython",
    "version": 3
   },
   "file_extension": ".py",
   "mimetype": "text/x-python",
   "name": "python",
   "nbconvert_exporter": "python",
   "pygments_lexer": "ipython3",
   "version": "3.12.6"
  }
 },
 "nbformat": 4,
 "nbformat_minor": 4
}
